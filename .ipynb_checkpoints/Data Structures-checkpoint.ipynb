{
 "cells": [
  {
   "cell_type": "markdown",
   "metadata": {},
   "source": [
    "# Week 1 : 03.01.2020\n",
    "\n",
    "\n",
    "# Complexity\n",
    "https://en.wikipedia.org/wiki/Time_complexity\n",
    "\n",
    "# Linked List\n",
    "https://en.wikipedia.org/wiki/Linked_list"
   ]
  },
  {
   "cell_type": "code",
   "execution_count": 5,
   "metadata": {},
   "outputs": [
    {
     "name": "stdout",
     "output_type": "stream",
     "text": [
      "3->2->1->None\n",
      "1->2->3->None\n"
     ]
    }
   ],
   "source": [
    "# Linked List Code\n",
    "class Item:\n",
    "    def __init__(self, val):\n",
    "        self.val = val\n",
    "        self.next = None\n",
    "\n",
    "class Linkedlist:\n",
    "    def __init__(self):\n",
    "        self.head = None\n",
    "\n",
    "    def insertAtBegin(self,val):\n",
    "        # Adds an item to front (head) of the linkedlist\n",
    "        newItem = Item(val) # Creates a new BOX\n",
    "        newItem.next = self.head # Points Box to curr head\n",
    "        self.head = newItem  # Makes box new head \n",
    "\n",
    "    def display(self):\n",
    "        curr = self.head\n",
    "        while curr != None: \n",
    "            print(str(curr.val)+\"->\",end = '')\n",
    "            curr = curr.next \n",
    "        print(\"None\")\n",
    "        # Reverses a linked list\n",
    "    def reverse(self):\n",
    "        if self.head is not None:\n",
    "            self.reverseActual(self.head)\n",
    "    def reverseActual(self, curr):\n",
    "        if curr.next is None:\n",
    "            self.head = curr\n",
    "            return\n",
    "        self.reverseActual(curr.next)\n",
    "        curr.next.next = curr\n",
    "        curr.next = None\n",
    "\n",
    "# Create an object of class linkedlist\n",
    "ll1  = Linkedlist()\n",
    "ll1.insertAtBegin(1)\n",
    "ll1.insertAtBegin(2)\n",
    "ll1.insertAtBegin(3)\n",
    "ll1.display()\n",
    "ll1.reverse()\n",
    "ll1.display()"
   ]
  },
  {
   "cell_type": "markdown",
   "metadata": {},
   "source": [
    "# Circular Linked List\n",
    "1. https://en.wikipedia.org/wiki/Linked_list#Circularly_linked_list\n",
    "1. https://www.geeksforgeeks.org/circular-linked-list/"
   ]
  },
  {
   "cell_type": "code",
   "execution_count": 28,
   "metadata": {},
   "outputs": [
    {
     "name": "stdout",
     "output_type": "stream",
     "text": [
      "3->2->1->None\n"
     ]
    }
   ],
   "source": [
    "# Circular Linked List Code\n",
    "class Item:\n",
    "    def __init__(self, val):\n",
    "        self.val = val\n",
    "        self.next = None\n",
    "\n",
    "class CLinkedlist:\n",
    "    def __init__(self):\n",
    "        self.head = None\n",
    "    \n",
    "    def insertAtBegin(self,val):\n",
    "        # Create a new item\n",
    "        newItem = Item(val)\n",
    "        curr = self.head\n",
    "        \n",
    "        newItem.next = self.head\n",
    "        \n",
    "        # Point the last element to the new Item\n",
    "        if self.head != None:\n",
    "            while curr.next != self.head:\n",
    "                curr = curr.next\n",
    "            curr.next = newItem\n",
    "        else:\n",
    "            newItem.next = newItem\n",
    "        self.head = newItem\n",
    "\n",
    "    def display(self):\n",
    "        curr = self.head\n",
    "        if self.head is not None:\n",
    "            while curr.next != self.head: \n",
    "                print(str(curr.val)+\"->\",end = '')\n",
    "                curr = curr.next\n",
    "            print(str(curr.val)+\"->\",end = '')\n",
    "        print(\"None\")\n",
    "        \n",
    "# Create an object of class linkedlist\n",
    "ll1  = CLinkedlist()\n",
    "ll1.insertAtBegin(1)\n",
    "ll1.insertAtBegin(2)\n",
    "ll1.insertAtBegin(3)\n",
    "ll1.display()"
   ]
  },
  {
   "cell_type": "markdown",
   "metadata": {},
   "source": [
    "# Doubly Linked List\n",
    "1. https://en.wikipedia.org/wiki/Doubly_linked_list"
   ]
  },
  {
   "cell_type": "code",
   "execution_count": 29,
   "metadata": {},
   "outputs": [
    {
     "name": "stdout",
     "output_type": "stream",
     "text": [
      "3->2->1->0->-1->None\n"
     ]
    }
   ],
   "source": [
    "# Doubly Linked List Code\n",
    "class Item:\n",
    "    def __init__(self, val):\n",
    "        self.val = val\n",
    "        self.nex = None\n",
    "        self.pre = None\n",
    "\n",
    "class DLinkedlist:\n",
    "    def __init__(self):\n",
    "        self.head = None\n",
    "    \n",
    "    def insertAtBegin(self,val):\n",
    "        # Create a new item \n",
    "        newItem = Item(val)\n",
    "        newItem.nex = self.head\n",
    "        if self.head is not None:\n",
    "            self.head.pre = newItem\n",
    "        self.head = newItem\n",
    "    \n",
    "    def insertAtEnd(self,val):\n",
    "        newItem = Item(val)\n",
    "        if self.head is None:\n",
    "            self.insertAtBegin(val)\n",
    "        else:\n",
    "            curr = self.head\n",
    "            while curr.nex is not None:\n",
    "                curr = curr.nex\n",
    "            curr.nex = newItem\n",
    "            newItem.pre = curr\n",
    "    \n",
    "    \n",
    "    def display(self):\n",
    "        curr = self.head\n",
    "        while curr != None: \n",
    "            print(str(curr.val)+\"->\",end = '')\n",
    "            curr = curr.nex\n",
    "        print(\"None\")\n",
    "\n",
    "# Create an object of class linkedlist\n",
    "ll1  = DLinkedlist()\n",
    "ll1.insertAtEnd(0)\n",
    "ll1.insertAtBegin(1)\n",
    "ll1.insertAtBegin(2)\n",
    "ll1.insertAtBegin(3)\n",
    "ll1.insertAtEnd(-1)\n",
    "ll1.display()"
   ]
  },
  {
   "cell_type": "code",
   "execution_count": 1,
   "metadata": {},
   "outputs": [
    {
     "name": "stdout",
     "output_type": "stream",
     "text": [
      "[1, 2, 3, 4, 5, 6]\n"
     ]
    }
   ],
   "source": [
    "# Bubble Sort\n",
    "def BubbleSort(inputList):\n",
    "    # Code for n passes\n",
    "    # Loop n times : Length of the input list\n",
    "    for i in range(len(inputList)):\n",
    "        # Code for 1 pass\n",
    "        # Loop n - 1 times\n",
    "        for j in range(len(inputList)-1):\n",
    "            # Check if violation \n",
    "            if inputList[j] > inputList[j+1]:\n",
    "                # Swap\n",
    "                inputList[j], inputList[j+1] = inputList[j+1], inputList[j]\n",
    "            # Shift the window (Covered in (j) for loop)\n",
    "    return inputList\n",
    "\n",
    "a = [6,5,4,3,2,1]\n",
    "print(BubbleSort(a))"
   ]
  },
  {
   "cell_type": "code",
   "execution_count": 2,
   "metadata": {},
   "outputs": [
    {
     "name": "stdout",
     "output_type": "stream",
     "text": [
      "[1, 2, 3, 4, 5, 6]\n"
     ]
    }
   ],
   "source": [
    "# Quick Sort\n",
    "'''\n",
    "- i \n",
    "6,7,4,8,2,\n",
    "- - j\n",
    "\n",
    "- - i \n",
    "6 4 7 8 2 \n",
    "- - - j\n",
    "\n",
    "- - - i\n",
    "6 4 2 8 7\n",
    "- - - - - j \n",
    "    p\n",
    "2 4 6 8 7\n",
    "\n",
    "\n",
    "i = pivot + 1 (will control the length of the short list)\n",
    "j = pivot + 1 (move through the list)\n",
    "6 \n",
    "'''\n",
    "\n",
    "def partition(iL, low , high):\n",
    "    # choose pivot\n",
    "    pivot = iL[low]\n",
    "    # declare i\n",
    "    i = low + 1\n",
    "    # loop n-1 times (j)\n",
    "    for j in range(low+1,high):\n",
    "        # Compare j with pivot\n",
    "        # if j < pivot\n",
    "        if iL[j] < pivot:\n",
    "            # swap j with i\n",
    "            iL[i], iL[j] = iL[j], iL[i]\n",
    "            # increase i by 1\n",
    "            i = i + 1\n",
    "    # swap pivot\n",
    "    iL[low], iL[i-1] = iL[i-1] , iL[low]\n",
    "    # return pivot position\n",
    "    return (i-1)\n",
    "\n",
    "def quickSort(iL, low , high):\n",
    "    if low < high:\n",
    "        # Get pivot position from partition\n",
    "        pp = partition(iL, low, high)\n",
    "        # Quicksort on left\n",
    "        # print(\"Calling quickSort on left\")\n",
    "        quickSort(iL, low , pp)\n",
    "        # quicksort on right\n",
    "        # print(\"Calling quickSort on right\")\n",
    "        quickSort(iL, pp + 1 , high)\n",
    "    \n",
    "a = [6,5,4,3,2,1]\n",
    "quickSort(a, 0, len(a))\n",
    "print(a)"
   ]
  },
  {
   "cell_type": "markdown",
   "metadata": {},
   "source": [
    "# STACK\n",
    "https://en.wikipedia.org/wiki/Stack_(abstract_data_type)\n",
    "\n",
    "# QUEUE\n",
    "https://en.wikipedia.org/wiki/Queue_(abstract_data_type)\n",
    "\n",
    "## Stack using queue\n",
    "## Queue using stack\n",
    "\n",
    "# Binary Search \n",
    "https://en.wikipedia.org/wiki/Binary_search_algorithm"
   ]
  },
  {
   "cell_type": "markdown",
   "metadata": {},
   "source": [
    "# Binary Search Tree \n",
    "https://en.wikipedia.org/wiki/Binary_search_tree"
   ]
  },
  {
   "cell_type": "code",
   "execution_count": null,
   "metadata": {},
   "outputs": [],
   "source": [
    "class Node:\n",
    "    def __init__(self,val):\n",
    "        self.data = val\n",
    "        self.parent = None\n",
    "        self.left = None\n",
    "        self.right = None \n",
    "    \n",
    "class BinarySearchTree:\n",
    "    def __init__(self,val):\n",
    "        self.root = None\n",
    "    def \n",
    "    "
   ]
  }
 ],
 "metadata": {
  "kernelspec": {
   "display_name": "Python 3",
   "language": "python",
   "name": "python3"
  },
  "language_info": {
   "codemirror_mode": {
    "name": "ipython",
    "version": 3
   },
   "file_extension": ".py",
   "mimetype": "text/x-python",
   "name": "python",
   "nbconvert_exporter": "python",
   "pygments_lexer": "ipython3",
   "version": "3.7.3"
  }
 },
 "nbformat": 4,
 "nbformat_minor": 2
}
