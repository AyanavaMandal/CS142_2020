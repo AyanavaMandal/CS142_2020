{
 "cells": [
  {
   "cell_type": "markdown",
   "metadata": {},
   "source": [
    "# Week 1 : 03.01.2020\n",
    "\n",
    "\n",
    "# Complexity\n",
    "https://en.wikipedia.org/wiki/Time_complexity\n",
    "\n",
    "# Linked List\n",
    "https://en.wikipedia.org/wiki/Linked_list"
   ]
  },
  {
   "cell_type": "code",
   "execution_count": 1,
   "metadata": {},
   "outputs": [
    {
     "name": "stdout",
     "output_type": "stream",
     "text": [
      "3->2->1->None\n"
     ]
    }
   ],
   "source": [
    "# Linked List Code\n",
    "class Item:\n",
    "    def __init__(self, val):\n",
    "        self.val = val\n",
    "        self.next = None\n",
    "\n",
    "class Linkedlist:\n",
    "    def __init__(self):\n",
    "        self.head = None\n",
    "\n",
    "    def insertAtBegin(self,val):\n",
    "        # Adds an item to front (head) of the linkedlist\n",
    "        newItem = Item(val) # Creates a new BOX\n",
    "        newItem.next = self.head # Points Box to curr head\n",
    "        self.head = newItem  # Makes box new head \n",
    "\n",
    "    def display(self):\n",
    "        curr = self.head\n",
    "        while curr != None: \n",
    "            print(str(curr.val)+\"->\",end = '')\n",
    "            curr = curr.next \n",
    "        print(\"None\")\n",
    "\n",
    "# Create an object of class linkedlist\n",
    "ll1  = Linkedlist()\n",
    "ll1.insertAtBegin(1)\n",
    "ll1.insertAtBegin(2)\n",
    "ll1.insertAtBegin(3)\n",
    "ll1.display()"
   ]
  },
  {
   "cell_type": "markdown",
   "metadata": {},
   "source": [
    "# Circular Linked List\n",
    "1. https://en.wikipedia.org/wiki/Linked_list#Circularly_linked_list\n",
    "1. https://www.geeksforgeeks.org/circular-linked-list/"
   ]
  },
  {
   "cell_type": "code",
   "execution_count": 28,
   "metadata": {},
   "outputs": [
    {
     "name": "stdout",
     "output_type": "stream",
     "text": [
      "3->2->1->None\n"
     ]
    }
   ],
   "source": [
    "# Circular Linked List Code\n",
    "class Item:\n",
    "    def __init__(self, val):\n",
    "        self.val = val\n",
    "        self.next = None\n",
    "\n",
    "class CLinkedlist:\n",
    "    def __init__(self):\n",
    "        self.head = None\n",
    "    \n",
    "    def insertAtBegin(self,val):\n",
    "        # Create a new item\n",
    "        newItem = Item(val)\n",
    "        curr = self.head\n",
    "        \n",
    "        newItem.next = self.head\n",
    "        \n",
    "        # Point the last element to the new Item\n",
    "        if self.head != None:\n",
    "            while curr.next != self.head:\n",
    "                curr = curr.next\n",
    "            curr.next = newItem\n",
    "        else:\n",
    "            newItem.next = newItem\n",
    "        self.head = newItem\n",
    "\n",
    "    def display(self):\n",
    "        curr = self.head\n",
    "        if self.head is not None:\n",
    "            while curr.next != self.head: \n",
    "                print(str(curr.val)+\"->\",end = '')\n",
    "                curr = curr.next\n",
    "            print(str(curr.val)+\"->\",end = '')\n",
    "        print(\"None\")\n",
    "        \n",
    "# Create an object of class linkedlist\n",
    "ll1  = CLinkedlist()\n",
    "ll1.insertAtBegin(1)\n",
    "ll1.insertAtBegin(2)\n",
    "ll1.insertAtBegin(3)\n",
    "ll1.display()"
   ]
  },
  {
   "cell_type": "markdown",
   "metadata": {},
   "source": [
    "# Doubly Linked List\n",
    "1. https://en.wikipedia.org/wiki/Doubly_linked_list"
   ]
  },
  {
   "cell_type": "code",
   "execution_count": 29,
   "metadata": {},
   "outputs": [
    {
     "name": "stdout",
     "output_type": "stream",
     "text": [
      "3->2->1->0->-1->None\n"
     ]
    }
   ],
   "source": [
    "# Doubly Linked List Code\n",
    "class Item:\n",
    "    def __init__(self, val):\n",
    "        self.val = val\n",
    "        self.nex = None\n",
    "        self.pre = None\n",
    "\n",
    "class DLinkedlist:\n",
    "    def __init__(self):\n",
    "        self.head = None\n",
    "    \n",
    "    def insertAtBegin(self,val):\n",
    "        # Create a new item \n",
    "        newItem = Item(val)\n",
    "        newItem.nex = self.head\n",
    "        if self.head is not None:\n",
    "            self.head.pre = newItem\n",
    "        self.head = newItem\n",
    "    \n",
    "    def insertAtEnd(self,val):\n",
    "        newItem = Item(val)\n",
    "        if self.head is None:\n",
    "            self.insertAtBegin(val)\n",
    "        else:\n",
    "            curr = self.head\n",
    "            while curr.nex is not None:\n",
    "                curr = curr.nex\n",
    "            curr.nex = newItem\n",
    "            newItem.pre = curr\n",
    "    \n",
    "    \n",
    "    def display(self):\n",
    "        curr = self.head\n",
    "        while curr != None: \n",
    "            print(str(curr.val)+\"->\",end = '')\n",
    "            curr = curr.nex\n",
    "        print(\"None\")\n",
    "\n",
    "# Create an object of class linkedlist\n",
    "ll1  = DLinkedlist()\n",
    "ll1.insertAtEnd(0)\n",
    "ll1.insertAtBegin(1)\n",
    "ll1.insertAtBegin(2)\n",
    "ll1.insertAtBegin(3)\n",
    "ll1.insertAtEnd(-1)\n",
    "ll1.display()"
   ]
  },
  {
   "cell_type": "code",
   "execution_count": null,
   "metadata": {},
   "outputs": [],
   "source": [
    "# Bubble Sort\n",
    "\n",
    "\n",
    "def BubbleSort(inputList):\n",
    "    # Code for n passes\n",
    "    # Loop n times : Length of the input list\n",
    "    for i in range(len(inputList)):\n",
    "        # Code for 1 pass\n",
    "        # Loop n times\n",
    "        for j in range(len(inputList)):\n",
    "            # Check if violation \n",
    "                # Swap\n",
    "            # Shift the window\n",
    "\n",
    "    \n",
    "    \n",
    "    \n",
    "    \n",
    "    \n",
    "    "
   ]
  },
  {
   "cell_type": "code",
   "execution_count": null,
   "metadata": {},
   "outputs": [],
   "source": []
  },
  {
   "cell_type": "code",
   "execution_count": null,
   "metadata": {},
   "outputs": [],
   "source": []
  }
 ],
 "metadata": {
  "kernelspec": {
   "display_name": "Python 3",
   "language": "python",
   "name": "python3"
  },
  "language_info": {
   "codemirror_mode": {
    "name": "ipython",
    "version": 3
   },
   "file_extension": ".py",
   "mimetype": "text/x-python",
   "name": "python",
   "nbconvert_exporter": "python",
   "pygments_lexer": "ipython3",
   "version": "3.7.3"
  }
 },
 "nbformat": 4,
 "nbformat_minor": 2
}
